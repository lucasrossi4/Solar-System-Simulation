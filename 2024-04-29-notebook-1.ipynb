{
 "cells": [
  {
   "cell_type": "code",
   "execution_count": 0,
   "id": "f9f0b3",
   "metadata": {
    "collapsed": false
   },
   "outputs": [
   ],
   "source": [
   ]
  }
 ],
 "metadata": {
  "kernelspec": {
  }
 },
 "nbformat": 4,
 "nbformat_minor": 4
}